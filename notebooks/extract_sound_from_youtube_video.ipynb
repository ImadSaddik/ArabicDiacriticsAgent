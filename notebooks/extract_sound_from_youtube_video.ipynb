{
 "cells": [
  {
   "cell_type": "markdown",
   "metadata": {},
   "source": [
    "## Extract audio"
   ]
  },
  {
   "cell_type": "markdown",
   "metadata": {},
   "source": [
    "Start by providing the video URL."
   ]
  },
  {
   "cell_type": "code",
   "execution_count": 1,
   "metadata": {},
   "outputs": [
    {
     "name": "stdout",
     "output_type": "stream",
     "text": [
      "Home (Arabic) - بيتنا\n"
     ]
    }
   ],
   "source": [
    "from pytubefix import YouTube\n",
    "\n",
    "video_url = \"https://www.youtube.com/watch?v=E9-k7wtS3bg\"\n",
    "youtube = YouTube(video_url)\n",
    "print(youtube.title)"
   ]
  },
  {
   "cell_type": "markdown",
   "metadata": {},
   "source": [
    "`progressive = True` tries to download both the video and audio and often times it will only find either the 360p resolution or 720p."
   ]
  },
  {
   "cell_type": "code",
   "execution_count": 3,
   "metadata": {},
   "outputs": [
    {
     "name": "stdout",
     "output_type": "stream",
     "text": [
      "<Stream: itag=\"18\" mime_type=\"video/mp4\" res=\"360p\" fps=\"24fps\" vcodec=\"avc1.42001E\" acodec=\"mp4a.40.2\" progressive=\"True\" type=\"video\">\n"
     ]
    }
   ],
   "source": [
    "streams = youtube.streams.filter(progressive=True)\n",
    "for stream in streams:\n",
    "    print(stream)"
   ]
  },
  {
   "cell_type": "markdown",
   "metadata": {},
   "source": [
    "Sadly we have to do this manually, first we will downalod the video stream then the audio stream and combine them at the end.\n",
    "\n",
    "Now the video is in 4K"
   ]
  },
  {
   "cell_type": "code",
   "execution_count": 4,
   "metadata": {},
   "outputs": [
    {
     "data": {
      "text/plain": [
       "<Stream: itag=\"398\" mime_type=\"video/mp4\" res=\"720p\" fps=\"24fps\" vcodec=\"av01.0.05M.08\" progressive=\"False\" type=\"video\">"
      ]
     },
     "execution_count": 4,
     "metadata": {},
     "output_type": "execute_result"
    }
   ],
   "source": [
    "video_stream = youtube.streams.filter(\n",
    "    adaptive=True, file_extension='mp4', only_video=True).order_by('resolution').desc().first()\n",
    "video_stream"
   ]
  },
  {
   "cell_type": "markdown",
   "metadata": {},
   "source": [
    "And audio is on max resolution too."
   ]
  },
  {
   "cell_type": "code",
   "execution_count": 5,
   "metadata": {},
   "outputs": [
    {
     "data": {
      "text/plain": [
       "<Stream: itag=\"140\" mime_type=\"audio/mp4\" abr=\"128kbps\" acodec=\"mp4a.40.2\" progressive=\"False\" type=\"audio\">"
      ]
     },
     "execution_count": 5,
     "metadata": {},
     "output_type": "execute_result"
    }
   ],
   "source": [
    "audio_stream = youtube.streams.filter(\n",
    "    adaptive=True, file_extension='mp4', only_audio=True).order_by('abr').desc().first()\n",
    "audio_stream"
   ]
  },
  {
   "cell_type": "markdown",
   "metadata": {},
   "source": [
    "Downalod both files."
   ]
  },
  {
   "cell_type": "code",
   "execution_count": null,
   "metadata": {},
   "outputs": [],
   "source": [
    "audio_destination = \"../audio/\"\n",
    "video_destination = \"../video/\"\n",
    "\n",
    "video_stream.download(filename='video.mp4', output_path=video_destination)\n",
    "audio_stream.download(filename='audio.mp4', output_path=audio_destination)"
   ]
  }
 ],
 "metadata": {
  "kernelspec": {
   "display_name": "arabicDiacriticsAgent",
   "language": "python",
   "name": "python3"
  },
  "language_info": {
   "codemirror_mode": {
    "name": "ipython",
    "version": 3
   },
   "file_extension": ".py",
   "mimetype": "text/x-python",
   "name": "python",
   "nbconvert_exporter": "python",
   "pygments_lexer": "ipython3",
   "version": "3.12.9"
  }
 },
 "nbformat": 4,
 "nbformat_minor": 2
}
